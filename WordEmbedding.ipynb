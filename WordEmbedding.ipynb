{
 "cells": [
  {
   "cell_type": "code",
   "execution_count": 35,
   "id": "fb23051d-706d-4b5e-8b02-9c96ad59d8da",
   "metadata": {},
   "outputs": [],
   "source": [
    "import nltk\n",
    "from nltk.stem import PorterStemmer\n",
    "from nltk.stem import WordNetLemmatizer\n",
    "import re #re is regular expressions library and lowering the sentences,cleaning the text"
   ]
  },
  {
   "cell_type": "code",
   "execution_count": 36,
   "id": "eef51360-dc67-4761-8db1-a82b4107b1dd",
   "metadata": {},
   "outputs": [
    {
     "data": {
      "text/plain": [
       "9"
      ]
     },
     "execution_count": 36,
     "metadata": {},
     "output_type": "execute_result"
    }
   ],
   "source": [
    "text=\"The heart is a vital organ responsible for pumping blood throughout the body, supplying oxygen and nutrients while removing waste products. It is a muscular organ, roughly the size of a fist, located slightly to the left of the chest. The heart has four chambers: the right atrium, right ventricle, left atrium, and left ventricle. These chambers work together, contracting and relaxing rhythmically to circulate blood. The right side of the heart pumps oxygen-poor blood to the lungs for oxygenation, while the left side delivers oxygen-rich blood to the rest of the body. The heart functions through an electrical system that controls its beats, typically around 60–100 times per minute. It is influenced by lifestyle, diet, and genetics, making heart health crucial. Common heart conditions include hypertension, arrhythmias, and coronary artery disease. Regular exercise, a balanced diet, and stress management contribute to maintaining a healthy heart and preventing cardiovascular diseases.\"\n",
    "ps=PorterStemmer()\n",
    "wordnet=WordNetLemmatizer()\n",
    "sentence=nltk.sent_tokenize(text)\n",
    "len(sentence)"
   ]
  },
  {
   "cell_type": "code",
   "execution_count": 37,
   "id": "b912daa1-9614-4b4d-a9da-636ff6f0fbf2",
   "metadata": {},
   "outputs": [
    {
     "data": {
      "text/plain": [
       "['The heart is a vital organ responsible for pumping blood throughout the body, supplying oxygen and nutrients while removing waste products.',\n",
       " 'It is a muscular organ, roughly the size of a fist, located slightly to the left of the chest.',\n",
       " 'The heart has four chambers: the right atrium, right ventricle, left atrium, and left ventricle.',\n",
       " 'These chambers work together, contracting and relaxing rhythmically to circulate blood.',\n",
       " 'The right side of the heart pumps oxygen-poor blood to the lungs for oxygenation, while the left side delivers oxygen-rich blood to the rest of the body.',\n",
       " 'The heart functions through an electrical system that controls its beats, typically around 60–100 times per minute.',\n",
       " 'It is influenced by lifestyle, diet, and genetics, making heart health crucial.',\n",
       " 'Common heart conditions include hypertension, arrhythmias, and coronary artery disease.',\n",
       " 'Regular exercise, a balanced diet, and stress management contribute to maintaining a healthy heart and preventing cardiovascular diseases.']"
      ]
     },
     "execution_count": 37,
     "metadata": {},
     "output_type": "execute_result"
    }
   ],
   "source": [
    "sentence"
   ]
  },
  {
   "cell_type": "code",
   "execution_count": 40,
   "id": "ba4931e3-9f23-44a9-873f-b20d2c30845e",
   "metadata": {},
   "outputs": [],
   "source": [
    "from nltk.corpus import stopwords\n",
    "def cleaning(txt):\n",
    "    corpus=[]\n",
    "    for i in range (len(txt)):\n",
    "        review=re.sub('[^a-zA-Z]',\" \",txt[i])\n",
    "        review=review.lower()\n",
    "        review=review.split()\n",
    "        review=[wordnet.lemmatize(word) for word in review if word not in set(stopwords.words(\"english\"))]\n",
    "        review=\" \".join(review)\n",
    "        corpus.append(review)\n",
    "    return corpus\n",
    "    \n",
    "    "
   ]
  },
  {
   "cell_type": "code",
   "execution_count": 41,
   "id": "3e20cc75-4435-406b-9a4a-8a03cbd5efa1",
   "metadata": {},
   "outputs": [
    {
     "data": {
      "text/plain": [
       "['heart vital organ responsible pumping blood throughout body supplying oxygen nutrient removing waste product',\n",
       " 'muscular organ roughly size fist located slightly left chest',\n",
       " 'heart four chamber right atrium right ventricle left atrium left ventricle',\n",
       " 'chamber work together contracting relaxing rhythmically circulate blood',\n",
       " 'right side heart pump oxygen poor blood lung oxygenation left side delivers oxygen rich blood rest body',\n",
       " 'heart function electrical system control beat typically around time per minute',\n",
       " 'influenced lifestyle diet genetics making heart health crucial',\n",
       " 'common heart condition include hypertension arrhythmia coronary artery disease',\n",
       " 'regular exercise balanced diet stress management contribute maintaining healthy heart preventing cardiovascular disease']"
      ]
     },
     "execution_count": 41,
     "metadata": {},
     "output_type": "execute_result"
    }
   ],
   "source": [
    "bog=cleaning(sentence)\n",
    "bog"
   ]
  },
  {
   "cell_type": "markdown",
   "id": "84e4fcc6-e095-4091-b5f5-63d3c69c7732",
   "metadata": {},
   "source": [
    "# BoW(Bag of Words)"
   ]
  },
  {
   "cell_type": "code",
   "execution_count": 42,
   "id": "7490ca92-756e-4943-9e9a-b75425e12e4a",
   "metadata": {},
   "outputs": [],
   "source": [
    "from sklearn.feature_extraction.text import CountVectorizer\n",
    "cv=CountVectorizer()\n",
    "x=cv.fit_transform(bog).toarray()"
   ]
  },
  {
   "cell_type": "code",
   "execution_count": 43,
   "id": "544d2e11-d698-4f8c-93ba-58d4a93163ca",
   "metadata": {},
   "outputs": [
    {
     "data": {
      "text/plain": [
       "array([[0, 0, 0, 0, 0, 0, 1, 1, 0, 0, 0, 0, 0, 0, 0, 0, 0, 0, 0, 0, 0, 0,\n",
       "        0, 0, 0, 0, 0, 0, 0, 0, 1, 0, 0, 0, 0, 0, 0, 0, 0, 0, 0, 0, 0, 1,\n",
       "        1, 1, 0, 0, 0, 0, 1, 0, 1, 0, 0, 1, 1, 0, 0, 0, 0, 0, 0, 0, 0, 0,\n",
       "        1, 0, 1, 0, 0, 0, 0, 1, 1, 0],\n",
       "       [0, 0, 0, 0, 0, 0, 0, 0, 0, 0, 1, 0, 0, 0, 0, 0, 0, 0, 0, 0, 0, 0,\n",
       "        0, 0, 1, 0, 0, 0, 0, 0, 0, 0, 0, 0, 1, 0, 1, 0, 0, 0, 0, 0, 1, 0,\n",
       "        1, 0, 0, 0, 0, 0, 0, 0, 0, 0, 0, 0, 0, 0, 0, 0, 0, 1, 0, 1, 1, 0,\n",
       "        0, 0, 0, 0, 0, 0, 0, 0, 0, 0],\n",
       "       [0, 0, 0, 2, 0, 0, 0, 0, 0, 1, 0, 0, 0, 0, 0, 0, 0, 0, 0, 0, 0, 0,\n",
       "        0, 0, 0, 1, 0, 0, 0, 0, 1, 0, 0, 0, 2, 0, 0, 0, 0, 0, 0, 0, 0, 0,\n",
       "        0, 0, 0, 0, 0, 0, 0, 0, 0, 0, 0, 0, 0, 0, 0, 0, 2, 0, 0, 0, 0, 0,\n",
       "        0, 0, 0, 0, 0, 0, 2, 0, 0, 0],\n",
       "       [0, 0, 0, 0, 0, 0, 1, 0, 0, 1, 0, 1, 0, 0, 1, 0, 0, 0, 0, 0, 0, 0,\n",
       "        0, 0, 0, 0, 0, 0, 0, 0, 0, 0, 0, 0, 0, 0, 0, 0, 0, 0, 0, 0, 0, 0,\n",
       "        0, 0, 0, 0, 0, 0, 0, 0, 0, 0, 1, 0, 0, 0, 1, 0, 0, 0, 0, 0, 0, 0,\n",
       "        0, 0, 0, 0, 1, 0, 0, 0, 0, 1],\n",
       "       [0, 0, 0, 0, 0, 0, 2, 1, 0, 0, 0, 0, 0, 0, 0, 0, 0, 0, 0, 1, 0, 0,\n",
       "        0, 0, 0, 0, 0, 0, 0, 0, 1, 0, 0, 0, 1, 0, 0, 1, 0, 0, 0, 0, 0, 0,\n",
       "        0, 2, 1, 0, 1, 0, 0, 1, 0, 0, 0, 0, 0, 1, 0, 1, 1, 0, 2, 0, 0, 0,\n",
       "        0, 0, 0, 0, 0, 0, 0, 0, 0, 0],\n",
       "       [1, 0, 0, 0, 0, 1, 0, 0, 0, 0, 0, 0, 0, 0, 0, 0, 1, 0, 0, 0, 0, 0,\n",
       "        1, 0, 0, 0, 1, 0, 0, 0, 1, 0, 0, 0, 0, 0, 0, 0, 0, 0, 0, 1, 0, 0,\n",
       "        0, 0, 0, 1, 0, 0, 0, 0, 0, 0, 0, 0, 0, 0, 0, 0, 0, 0, 0, 0, 0, 0,\n",
       "        0, 1, 0, 1, 0, 1, 0, 0, 0, 0],\n",
       "       [0, 0, 0, 0, 0, 0, 0, 0, 0, 0, 0, 0, 0, 0, 0, 0, 0, 0, 1, 0, 1, 0,\n",
       "        0, 0, 0, 0, 0, 1, 1, 0, 1, 0, 0, 1, 0, 1, 0, 0, 0, 1, 0, 0, 0, 0,\n",
       "        0, 0, 0, 0, 0, 0, 0, 0, 0, 0, 0, 0, 0, 0, 0, 0, 0, 0, 0, 0, 0, 0,\n",
       "        0, 0, 0, 0, 0, 0, 0, 0, 0, 0],\n",
       "       [0, 1, 1, 0, 0, 0, 0, 0, 0, 0, 0, 0, 1, 1, 0, 0, 0, 1, 0, 0, 0, 1,\n",
       "        0, 0, 0, 0, 0, 0, 0, 0, 1, 1, 1, 0, 0, 0, 0, 0, 0, 0, 0, 0, 0, 0,\n",
       "        0, 0, 0, 0, 0, 0, 0, 0, 0, 0, 0, 0, 0, 0, 0, 0, 0, 0, 0, 0, 0, 0,\n",
       "        0, 0, 0, 0, 0, 0, 0, 0, 0, 0],\n",
       "       [0, 0, 0, 0, 1, 0, 0, 0, 1, 0, 0, 0, 0, 0, 0, 1, 0, 0, 0, 0, 1, 1,\n",
       "        0, 1, 0, 0, 0, 0, 0, 1, 1, 0, 0, 0, 0, 0, 0, 0, 1, 0, 1, 0, 0, 0,\n",
       "        0, 0, 0, 0, 0, 1, 0, 0, 0, 1, 0, 0, 0, 0, 0, 0, 0, 0, 0, 0, 0, 1,\n",
       "        0, 0, 0, 0, 0, 0, 0, 0, 0, 0]])"
      ]
     },
     "execution_count": 43,
     "metadata": {},
     "output_type": "execute_result"
    }
   ],
   "source": [
    "x"
   ]
  },
  {
   "cell_type": "markdown",
   "id": "9cebed06-2c1e-4153-aab1-201b0df24f3c",
   "metadata": {},
   "source": [
    "# TF-IDF Vector"
   ]
  },
  {
   "cell_type": "code",
   "execution_count": 44,
   "id": "c6b50c5d-dca3-42ae-8878-f462ea712d50",
   "metadata": {},
   "outputs": [],
   "source": [
    "from sklearn.feature_extraction.text import TfidfVectorizer\n",
    "vect=TfidfVectorizer()\n",
    "x=vect.fit_transform(bog).toarray()"
   ]
  },
  {
   "cell_type": "code",
   "execution_count": 45,
   "id": "64c0e5df-7c0e-4839-92ce-e5d45577e1b0",
   "metadata": {},
   "outputs": [
    {
     "data": {
      "text/plain": [
       "array([[0.        , 0.        , 0.        , 0.        , 0.        ,\n",
       "        0.        , 0.21289066, 0.24485075, 0.        , 0.        ,\n",
       "        0.        , 0.        , 0.        , 0.        , 0.        ,\n",
       "        0.        , 0.        , 0.        , 0.        , 0.        ,\n",
       "        0.        , 0.        , 0.        , 0.        , 0.        ,\n",
       "        0.        , 0.        , 0.        , 0.        , 0.        ,\n",
       "        0.13588535, 0.        , 0.        , 0.        , 0.        ,\n",
       "        0.        , 0.        , 0.        , 0.        , 0.        ,\n",
       "        0.        , 0.        , 0.        , 0.28989597, 0.24485075,\n",
       "        0.24485075, 0.        , 0.        , 0.        , 0.        ,\n",
       "        0.28989597, 0.        , 0.28989597, 0.        , 0.        ,\n",
       "        0.28989597, 0.28989597, 0.        , 0.        , 0.        ,\n",
       "        0.        , 0.        , 0.        , 0.        , 0.        ,\n",
       "        0.        , 0.28989597, 0.        , 0.28989597, 0.        ,\n",
       "        0.        , 0.        , 0.        , 0.28989597, 0.28989597,\n",
       "        0.        ],\n",
       "       [0.        , 0.        , 0.        , 0.        , 0.        ,\n",
       "        0.        , 0.        , 0.        , 0.        , 0.        ,\n",
       "        0.3480989 , 0.        , 0.        , 0.        , 0.        ,\n",
       "        0.        , 0.        , 0.        , 0.        , 0.        ,\n",
       "        0.        , 0.        , 0.        , 0.        , 0.3480989 ,\n",
       "        0.        , 0.        , 0.        , 0.        , 0.        ,\n",
       "        0.        , 0.        , 0.        , 0.        , 0.2556331 ,\n",
       "        0.        , 0.3480989 , 0.        , 0.        , 0.        ,\n",
       "        0.        , 0.        , 0.3480989 , 0.        , 0.29400987,\n",
       "        0.        , 0.        , 0.        , 0.        , 0.        ,\n",
       "        0.        , 0.        , 0.        , 0.        , 0.        ,\n",
       "        0.        , 0.        , 0.        , 0.        , 0.        ,\n",
       "        0.        , 0.3480989 , 0.        , 0.3480989 , 0.3480989 ,\n",
       "        0.        , 0.        , 0.        , 0.        , 0.        ,\n",
       "        0.        , 0.        , 0.        , 0.        , 0.        ,\n",
       "        0.        ],\n",
       "       [0.        , 0.        , 0.        , 0.5173681 , 0.        ,\n",
       "        0.        , 0.        , 0.        , 0.        , 0.21848867,\n",
       "        0.        , 0.        , 0.        , 0.        , 0.        ,\n",
       "        0.        , 0.        , 0.        , 0.        , 0.        ,\n",
       "        0.        , 0.        , 0.        , 0.        , 0.        ,\n",
       "        0.25868405, 0.        , 0.        , 0.        , 0.        ,\n",
       "        0.12125513, 0.        , 0.        , 0.        , 0.37993918,\n",
       "        0.        , 0.        , 0.        , 0.        , 0.        ,\n",
       "        0.        , 0.        , 0.        , 0.        , 0.        ,\n",
       "        0.        , 0.        , 0.        , 0.        , 0.        ,\n",
       "        0.        , 0.        , 0.        , 0.        , 0.        ,\n",
       "        0.        , 0.        , 0.        , 0.        , 0.        ,\n",
       "        0.43697733, 0.        , 0.        , 0.        , 0.        ,\n",
       "        0.        , 0.        , 0.        , 0.        , 0.        ,\n",
       "        0.        , 0.        , 0.5173681 , 0.        , 0.        ,\n",
       "        0.        ],\n",
       "       [0.        , 0.        , 0.        , 0.        , 0.        ,\n",
       "        0.        , 0.27268757, 0.        , 0.        , 0.31362464,\n",
       "        0.        , 0.3713222 , 0.        , 0.        , 0.3713222 ,\n",
       "        0.        , 0.        , 0.        , 0.        , 0.        ,\n",
       "        0.        , 0.        , 0.        , 0.        , 0.        ,\n",
       "        0.        , 0.        , 0.        , 0.        , 0.        ,\n",
       "        0.        , 0.        , 0.        , 0.        , 0.        ,\n",
       "        0.        , 0.        , 0.        , 0.        , 0.        ,\n",
       "        0.        , 0.        , 0.        , 0.        , 0.        ,\n",
       "        0.        , 0.        , 0.        , 0.        , 0.        ,\n",
       "        0.        , 0.        , 0.        , 0.        , 0.3713222 ,\n",
       "        0.        , 0.        , 0.        , 0.3713222 , 0.        ,\n",
       "        0.        , 0.        , 0.        , 0.        , 0.        ,\n",
       "        0.        , 0.        , 0.        , 0.        , 0.        ,\n",
       "        0.3713222 , 0.        , 0.        , 0.        , 0.        ,\n",
       "        0.3713222 ],\n",
       "       [0.        , 0.        , 0.        , 0.        , 0.        ,\n",
       "        0.        , 0.34431104, 0.19800027, 0.        , 0.        ,\n",
       "        0.        , 0.        , 0.        , 0.        , 0.        ,\n",
       "        0.        , 0.        , 0.        , 0.        , 0.2344264 ,\n",
       "        0.        , 0.        , 0.        , 0.        , 0.        ,\n",
       "        0.        , 0.        , 0.        , 0.        , 0.        ,\n",
       "        0.10988464, 0.        , 0.        , 0.        , 0.17215552,\n",
       "        0.        , 0.        , 0.2344264 , 0.        , 0.        ,\n",
       "        0.        , 0.        , 0.        , 0.        , 0.        ,\n",
       "        0.39600054, 0.2344264 , 0.        , 0.2344264 , 0.        ,\n",
       "        0.        , 0.2344264 , 0.        , 0.        , 0.        ,\n",
       "        0.        , 0.        , 0.2344264 , 0.        , 0.2344264 ,\n",
       "        0.19800027, 0.        , 0.4688528 , 0.        , 0.        ,\n",
       "        0.        , 0.        , 0.        , 0.        , 0.        ,\n",
       "        0.        , 0.        , 0.        , 0.        , 0.        ,\n",
       "        0.        ],\n",
       "       [0.31280998, 0.        , 0.        , 0.        , 0.        ,\n",
       "        0.31280998, 0.        , 0.        , 0.        , 0.        ,\n",
       "        0.        , 0.        , 0.        , 0.        , 0.        ,\n",
       "        0.        , 0.31280998, 0.        , 0.        , 0.        ,\n",
       "        0.        , 0.        , 0.31280998, 0.        , 0.        ,\n",
       "        0.        , 0.31280998, 0.        , 0.        , 0.        ,\n",
       "        0.14662602, 0.        , 0.        , 0.        , 0.        ,\n",
       "        0.        , 0.        , 0.        , 0.        , 0.        ,\n",
       "        0.        , 0.31280998, 0.        , 0.        , 0.        ,\n",
       "        0.        , 0.        , 0.31280998, 0.        , 0.        ,\n",
       "        0.        , 0.        , 0.        , 0.        , 0.        ,\n",
       "        0.        , 0.        , 0.        , 0.        , 0.        ,\n",
       "        0.        , 0.        , 0.        , 0.        , 0.        ,\n",
       "        0.        , 0.        , 0.31280998, 0.        , 0.31280998,\n",
       "        0.        , 0.31280998, 0.        , 0.        , 0.        ,\n",
       "        0.        ],\n",
       "       [0.        , 0.        , 0.        , 0.        , 0.        ,\n",
       "        0.        , 0.        , 0.        , 0.        , 0.        ,\n",
       "        0.        , 0.        , 0.        , 0.        , 0.        ,\n",
       "        0.        , 0.        , 0.        , 0.37978388, 0.        ,\n",
       "        0.32077151, 0.        , 0.        , 0.        , 0.        ,\n",
       "        0.        , 0.        , 0.37978388, 0.37978388, 0.        ,\n",
       "        0.17801926, 0.        , 0.        , 0.37978388, 0.        ,\n",
       "        0.37978388, 0.        , 0.        , 0.        , 0.37978388,\n",
       "        0.        , 0.        , 0.        , 0.        , 0.        ,\n",
       "        0.        , 0.        , 0.        , 0.        , 0.        ,\n",
       "        0.        , 0.        , 0.        , 0.        , 0.        ,\n",
       "        0.        , 0.        , 0.        , 0.        , 0.        ,\n",
       "        0.        , 0.        , 0.        , 0.        , 0.        ,\n",
       "        0.        , 0.        , 0.        , 0.        , 0.        ,\n",
       "        0.        , 0.        , 0.        , 0.        , 0.        ,\n",
       "        0.        ],\n",
       "       [0.        , 0.35504121, 0.35504121, 0.        , 0.        ,\n",
       "        0.        , 0.        , 0.        , 0.        , 0.        ,\n",
       "        0.        , 0.        , 0.35504121, 0.35504121, 0.        ,\n",
       "        0.        , 0.        , 0.35504121, 0.        , 0.        ,\n",
       "        0.        , 0.29987346, 0.        , 0.        , 0.        ,\n",
       "        0.        , 0.        , 0.        , 0.        , 0.        ,\n",
       "        0.16642142, 0.35504121, 0.35504121, 0.        , 0.        ,\n",
       "        0.        , 0.        , 0.        , 0.        , 0.        ,\n",
       "        0.        , 0.        , 0.        , 0.        , 0.        ,\n",
       "        0.        , 0.        , 0.        , 0.        , 0.        ,\n",
       "        0.        , 0.        , 0.        , 0.        , 0.        ,\n",
       "        0.        , 0.        , 0.        , 0.        , 0.        ,\n",
       "        0.        , 0.        , 0.        , 0.        , 0.        ,\n",
       "        0.        , 0.        , 0.        , 0.        , 0.        ,\n",
       "        0.        , 0.        , 0.        , 0.        , 0.        ,\n",
       "        0.        ],\n",
       "       [0.        , 0.        , 0.        , 0.        , 0.29302379,\n",
       "        0.        , 0.        , 0.        , 0.29302379, 0.        ,\n",
       "        0.        , 0.        , 0.        , 0.        , 0.        ,\n",
       "        0.29302379, 0.        , 0.        , 0.        , 0.        ,\n",
       "        0.24749256, 0.24749256, 0.        , 0.29302379, 0.        ,\n",
       "        0.        , 0.        , 0.        , 0.        , 0.29302379,\n",
       "        0.13735148, 0.        , 0.        , 0.        , 0.        ,\n",
       "        0.        , 0.        , 0.        , 0.29302379, 0.        ,\n",
       "        0.29302379, 0.        , 0.        , 0.        , 0.        ,\n",
       "        0.        , 0.        , 0.        , 0.        , 0.29302379,\n",
       "        0.        , 0.        , 0.        , 0.29302379, 0.        ,\n",
       "        0.        , 0.        , 0.        , 0.        , 0.        ,\n",
       "        0.        , 0.        , 0.        , 0.        , 0.        ,\n",
       "        0.29302379, 0.        , 0.        , 0.        , 0.        ,\n",
       "        0.        , 0.        , 0.        , 0.        , 0.        ,\n",
       "        0.        ]])"
      ]
     },
     "execution_count": 45,
     "metadata": {},
     "output_type": "execute_result"
    }
   ],
   "source": [
    "x"
   ]
  },
  {
   "cell_type": "markdown",
   "id": "2a7fca23-f9fc-4978-9a1b-6cba1a2ee003",
   "metadata": {},
   "source": [
    "### Exaample for easy understanding"
   ]
  },
  {
   "cell_type": "code",
   "execution_count": 47,
   "id": "a8ed0eb3-c720-4120-a416-10763e2d671b",
   "metadata": {},
   "outputs": [
    {
     "data": {
      "text/plain": [
       "['boy is good .', 'girls is good .', 'Boy girls is Good']"
      ]
     },
     "execution_count": 47,
     "metadata": {},
     "output_type": "execute_result"
    }
   ],
   "source": [
    "txt=\"boy is good . girls is good . Boy girls is Good\"\n",
    "sen=nltk.sent_tokenize(txt)\n",
    "sen"
   ]
  },
  {
   "cell_type": "code",
   "execution_count": 48,
   "id": "348aa223-8b1d-4d6c-bb70-06402d921fb7",
   "metadata": {},
   "outputs": [
    {
     "data": {
      "text/plain": [
       "['boy good', 'girl good', 'boy girl good']"
      ]
     },
     "execution_count": 48,
     "metadata": {},
     "output_type": "execute_result"
    }
   ],
   "source": [
    "s=cleaning(sen)\n",
    "s"
   ]
  },
  {
   "cell_type": "code",
   "execution_count": 50,
   "id": "6e8a1aeb-8170-4ff0-bdaf-ebfe9e57b305",
   "metadata": {},
   "outputs": [
    {
     "data": {
      "text/plain": [
       "array([[1, 0, 1],\n",
       "       [0, 1, 1],\n",
       "       [1, 1, 1]])"
      ]
     },
     "execution_count": 50,
     "metadata": {},
     "output_type": "execute_result"
    }
   ],
   "source": [
    "y=cv.fit_transform(s).toarray()\n",
    "y"
   ]
  },
  {
   "cell_type": "code",
   "execution_count": 51,
   "id": "e4b9c6b1-ec11-487e-98fc-4a7347aa60d4",
   "metadata": {},
   "outputs": [
    {
     "data": {
      "text/plain": [
       "array([[0.78980693, 0.        , 0.61335554],\n",
       "       [0.        , 0.78980693, 0.61335554],\n",
       "       [0.61980538, 0.61980538, 0.48133417]])"
      ]
     },
     "execution_count": 51,
     "metadata": {},
     "output_type": "execute_result"
    }
   ],
   "source": [
    "z=vect.fit_transform(s).toarray()\n",
    "z"
   ]
  },
  {
   "cell_type": "code",
   "execution_count": null,
   "id": "70ac386c-f483-4395-8080-3c5f8eb8326e",
   "metadata": {},
   "outputs": [],
   "source": []
  }
 ],
 "metadata": {
  "kernelspec": {
   "display_name": "Python 3 (ipykernel)",
   "language": "python",
   "name": "python3"
  },
  "language_info": {
   "codemirror_mode": {
    "name": "ipython",
    "version": 3
   },
   "file_extension": ".py",
   "mimetype": "text/x-python",
   "name": "python",
   "nbconvert_exporter": "python",
   "pygments_lexer": "ipython3",
   "version": "3.10.10"
  }
 },
 "nbformat": 4,
 "nbformat_minor": 5
}
